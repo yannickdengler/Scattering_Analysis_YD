{
 "cells": [
  {
   "cell_type": "code",
   "execution_count": 12,
   "metadata": {},
   "outputs": [],
   "source": [
    "import numpy as np\n",
    "import src.error_classes as errcl\n",
    "import src.basic_analysis as ba\n",
    "import src.read_HDF5_logfile as HDF_log \n",
    "%load_ext autoreload"
   ]
  },
  {
   "cell_type": "code",
   "execution_count": 13,
   "metadata": {},
   "outputs": [],
   "source": [
    "%autoreload now\n",
    "%autoreload 2"
   ]
  },
  {
   "cell_type": "code",
   "execution_count": null,
   "metadata": {},
   "outputs": [],
   "source": [
    "filelist = np.genfromtxt(\"HDF5_filelist\", \"str\")\n",
    "print(filelist)"
   ]
  },
  {
   "cell_type": "code",
   "execution_count": 36,
   "metadata": {},
   "outputs": [
    {
     "name": "stdout",
     "output_type": "stream",
     "text": [
      "output/HDF5_logfiles/Scattering_src_I2_SP(4)_beta6.900_m1-0.870_m2-0.870_T24_L12_logfile.hdf5\n",
      "3 400 24\n"
     ]
    }
   ],
   "source": [
    "\n",
    "filename = \"output/HDF5_logfiles/Scattering_src_I2_SP(4)_beta6.900_m1-0.870_m2-0.870_T24_L12_logfile.hdf5\"\n",
    "print(filename)\n",
    "corrs = HDF_log.get_pi_rho_pipi_corr_from_HDF5_logfile(filename)\n",
    "print(len(corrs),len(corrs[0]),len(corrs[0][0]))"
   ]
  },
  {
   "cell_type": "code",
   "execution_count": 40,
   "metadata": {},
   "outputs": [
    {
     "name": "stdout",
     "output_type": "stream",
     "text": [
      "3 400 24\n",
      "400 3 24\n",
      "Len of Corr in basic_analysis is not a mutiple of 3. \n"
     ]
    },
    {
     "ename": "AttributeError",
     "evalue": "'int' object has no attribute 'items'",
     "output_type": "error",
     "traceback": [
      "\u001b[0;31m---------------------------------------------------------------------------\u001b[0m",
      "\u001b[0;31mAttributeError\u001b[0m                            Traceback (most recent call last)",
      "\u001b[1;32m/home/dengler_yannick/Documents/Scattering_Analysis_YD/basic_analysis.ipynb Cell 5\u001b[0m line \u001b[0;36m9\n\u001b[1;32m      <a href='vscode-notebook-cell:/home/dengler_yannick/Documents/Scattering_Analysis_YD/basic_analysis.ipynb#W2sZmlsZQ%3D%3D?line=6'>7</a>\u001b[0m \u001b[39mprint\u001b[39m(\u001b[39mlen\u001b[39m(np\u001b[39m.\u001b[39mswapaxes(corrs,\u001b[39m0\u001b[39m,\u001b[39m1\u001b[39m)),\u001b[39mlen\u001b[39m(np\u001b[39m.\u001b[39mswapaxes(corrs,\u001b[39m0\u001b[39m,\u001b[39m1\u001b[39m)[\u001b[39m0\u001b[39m]),\u001b[39mlen\u001b[39m(np\u001b[39m.\u001b[39mswapaxes(corrs,\u001b[39m0\u001b[39m,\u001b[39m1\u001b[39m)[\u001b[39m0\u001b[39m][\u001b[39m0\u001b[39m]))\n\u001b[1;32m      <a href='vscode-notebook-cell:/home/dengler_yannick/Documents/Scattering_Analysis_YD/basic_analysis.ipynb#W2sZmlsZQ%3D%3D?line=7'>8</a>\u001b[0m basic \u001b[39m=\u001b[39m errcl\u001b[39m.\u001b[39mmeasurement(\u001b[39m\"\u001b[39m\u001b[39mbasic\u001b[39m\u001b[39m\"\u001b[39m, measure_func \u001b[39m=\u001b[39m ba\u001b[39m.\u001b[39mbasic_analysis, sampling_args \u001b[39m=\u001b[39m (\u001b[39m\"\u001b[39m\u001b[39mJK_SAMEDIM\u001b[39m\u001b[39m\"\u001b[39m,\u001b[39m0\u001b[39m,\u001b[39m0\u001b[39m))\n\u001b[0;32m----> <a href='vscode-notebook-cell:/home/dengler_yannick/Documents/Scattering_Analysis_YD/basic_analysis.ipynb#W2sZmlsZQ%3D%3D?line=8'>9</a>\u001b[0m basic\u001b[39m.\u001b[39;49mmeasure(orig_sample\u001b[39m=\u001b[39;49mnp\u001b[39m.\u001b[39;49mswapaxes(corrs,\u001b[39m0\u001b[39;49m,\u001b[39m1\u001b[39;49m), args\u001b[39m=\u001b[39;49m[filename\u001b[39m+\u001b[39;49m\u001b[39m\"\u001b[39;49m\u001b[39m_pi\u001b[39;49m\u001b[39m\"\u001b[39;49m, filename\u001b[39m+\u001b[39;49m\u001b[39m\"\u001b[39;49m\u001b[39m_rho\u001b[39;49m\u001b[39m\"\u001b[39;49m, filename\u001b[39m+\u001b[39;49m\u001b[39m\"\u001b[39;49m\u001b[39m_pipi\u001b[39;49m\u001b[39m\"\u001b[39;49m, ])\n\u001b[1;32m     <a href='vscode-notebook-cell:/home/dengler_yannick/Documents/Scattering_Analysis_YD/basic_analysis.ipynb#W2sZmlsZQ%3D%3D?line=9'>10</a>\u001b[0m basic\u001b[39m.\u001b[39mprint_to_HDF()\n",
      "File \u001b[0;32m~/Documents/Scattering_Analysis_YD/src/error_classes.py:39\u001b[0m, in \u001b[0;36mmeasurement.measure\u001b[0;34m(self, orig_sample, args, check_for_bad_results)\u001b[0m\n\u001b[1;32m     35\u001b[0m \u001b[39m\u001b[39m\u001b[39m\"\"\"\u001b[39;00m\n\u001b[1;32m     36\u001b[0m \u001b[39mTakes a sample and parses it to a function to obtain an estimate for the error\u001b[39;00m\n\u001b[1;32m     37\u001b[0m \u001b[39m\"\"\"\u001b[39;00m\n\u001b[1;32m     38\u001b[0m mean_res \u001b[39m=\u001b[39m \u001b[39mself\u001b[39m\u001b[39m.\u001b[39mmeasure_func(mean_orig_sample(orig_sample), args)     \n\u001b[0;32m---> 39\u001b[0m \u001b[39mfor\u001b[39;00m res_key, res \u001b[39min\u001b[39;00m mean_res\u001b[39m.\u001b[39;49mitems():\n\u001b[1;32m     40\u001b[0m     \u001b[39m# print(res_key, res)\u001b[39;00m\n\u001b[1;32m     41\u001b[0m     \u001b[39mfor\u001b[39;00m val \u001b[39min\u001b[39;00m res:\n\u001b[1;32m     42\u001b[0m         \u001b[39mif\u001b[39;00m np\u001b[39m.\u001b[39misnan(val) \u001b[39mor\u001b[39;00m np\u001b[39m.\u001b[39misinf(val):\n",
      "\u001b[0;31mAttributeError\u001b[0m: 'int' object has no attribute 'items'"
     ]
    }
   ],
   "source": [
    "# for filename in filelist:\n",
    "filename = filelist[8]\n",
    "filename = \"output/HDF5_logfiles/Scattering_src_I2_SP(4)_beta6.900_m1-0.870_m2-0.870_T24_L12_logfile.hdf5\"\n",
    "corrs = HDF_log.get_pi_rho_pipi_corr_from_HDF5_logfile(filename)\n",
    "(corr, ops, info) = HDF_log.get_corr_ops_info_from_HDF5_logfile(filename)\n",
    "print(len(corrs),len(corrs[0]),len(corrs[0][0]))\n",
    "print(len(np.swapaxes(corrs,0,1)),len(np.swapaxes(corrs,0,1)[0]),len(np.swapaxes(corrs,0,1)[0][0]))\n",
    "basic = errcl.measurement(\"basic\", measure_func = ba.basic_analysis, sampling_args = (\"JK_SAMEDIM\",0,0))\n",
    "basic.measure(orig_sample=np.swapaxes(corrs,0,1), args=[filename+\"_pi\", filename+\"_rho\", filename+\"_pipi\", ])\n",
    "basic.print_to_HDF()"
   ]
  },
  {
   "cell_type": "code",
   "execution_count": null,
   "metadata": {},
   "outputs": [],
   "source": []
  }
 ],
 "metadata": {
  "kernelspec": {
   "display_name": "Python 3",
   "language": "python",
   "name": "python3"
  },
  "language_info": {
   "codemirror_mode": {
    "name": "ipython",
    "version": 3
   },
   "file_extension": ".py",
   "mimetype": "text/x-python",
   "name": "python",
   "nbconvert_exporter": "python",
   "pygments_lexer": "ipython3",
   "version": "3.10.12"
  },
  "orig_nbformat": 4
 },
 "nbformat": 4,
 "nbformat_minor": 2
}
